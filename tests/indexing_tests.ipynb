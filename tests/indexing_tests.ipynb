{
 "cells": [
  {
   "cell_type": "code",
   "execution_count": null,
   "metadata": {},
   "outputs": [],
   "source": [
    "import time\n",
    "import subprocess as subp\n",
    "import os\n",
    "\n",
    "import matplotlib.pyplot as plt\n",
    "import numpy as np"
   ]
  },
  {
   "cell_type": "code",
   "execution_count": null,
   "metadata": {},
   "outputs": [],
   "source": [
    "text_samples = [\n",
    "    (\"dna\", [\"dna.50MB\", \"dna.100MB\", \"dna.200MB\"]),\n",
    "    (\"english\", [\"english.50MB\", \"english.100MB\", \"english.200MB\"])\n",
    "]"
   ]
  },
  {
   "cell_type": "code",
   "execution_count": null,
   "metadata": {},
   "outputs": [],
   "source": [
    "data = {}\n",
    "\n",
    "for (topic, text_file_list) in text_samples:\n",
    "\n",
    "    y_time_naive = []\n",
    "    y_time_ipmt = []\n",
    "\n",
    "    for text_file in text_file_list:\n",
    "        \n",
    "        text_file = \"./test-assets/compressed-assets/\" + text_file\n",
    "\n",
    "        t1 = time.time()\n",
    "        subp.check_call([\"./old\", \"index\", text_file])\n",
    "        t2 = time.time()\n",
    "        y_time_naive.append(t2 - t1)\n",
    "\n",
    "        t1 = time.time()\n",
    "        subp.check_call([\"ipmt\", \"index\", text_file])\n",
    "        t2 = time.time()\n",
    "        y_time_ipmt.append(t2 - t1)\n",
    "    \n",
    "    data[topic] = {\n",
    "        \"y_time_naive\"    : y_time_naive,\n",
    "        \"y_time_ipmt\"   : y_time_ipmt\n",
    "    }"
   ]
  },
  {
   "cell_type": "code",
   "execution_count": null,
   "metadata": {},
   "outputs": [],
   "source": [
    "COLOR = 'white'\n",
    "plt.rcParams['text.color'] = COLOR\n",
    "plt.rcParams['axes.labelcolor'] = COLOR\n",
    "plt.rcParams['xtick.color'] = COLOR\n",
    "plt.rcParams['ytick.color'] = COLOR"
   ]
  },
  {
   "cell_type": "code",
   "execution_count": null,
   "metadata": {},
   "outputs": [],
   "source": [
    "for topic_key in data:\n",
    "    topic_data = data[topic_key]\n",
    "\n",
    "    y_time_naive = topic_data[\"y_time_naive\"]\n",
    "    y_time_ipmt = topic_data[\"y_time_ipmt\"]\n",
    "\n",
    "    # plot - Time efficiency\n",
    "    fig, ax = plt.subplots()\n",
    "    \n",
    "    x = [50, 100, 200]\n",
    "\n",
    "    ax.plot(x, y_time_naive, label='naive')\n",
    "    ax.plot(x, y_time_ipmt, label='ipmt')\n",
    "\n",
    "    ax.set(xlim=(0, 250), xticks=np.arange(50, 250, 50))\n",
    "\n",
    "    plt.title(f\"Eficiência de tempo de algoritmos de indexação de acordo com o tamanho do texto: {topic_key}\")\n",
    "    plt.xlabel(\"Tamanho do arquivo em MBs\")\n",
    "    plt.ylabel(\"Tempo de indexação\")\n",
    "\n",
    "    plt.legend(labelcolor='black', loc='best')\n",
    "    plt.show()"
   ]
  }
 ],
 "metadata": {
  "language_info": {
   "name": "python"
  },
  "orig_nbformat": 4
 },
 "nbformat": 4,
 "nbformat_minor": 2
}
