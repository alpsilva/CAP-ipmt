{
 "cells": [
  {
   "cell_type": "code",
   "execution_count": 146,
   "metadata": {},
   "outputs": [],
   "source": [
    "import time\n",
    "import subprocess as subp\n",
    "import os\n",
    "\n",
    "import matplotlib.pyplot as plt\n",
    "import numpy as np"
   ]
  },
  {
   "cell_type": "code",
   "execution_count": 153,
   "metadata": {},
   "outputs": [],
   "source": [
    "text_samples = [\n",
    "    #(\"dna\", [\"dna.3MB\", \"dna.25MB\", \"dna.50MB\", \"dna.100MB\"]),\n",
    "    (\"english\", [\"english.26KB.idx\", \"english.400KB.idx\", \"english.1MB.idx\", \"english.2MB.idx\", \"english.3MB.idx\", \"english.6MB.idx\", \"english.13MB.idx\"])\n",
    "]"
   ]
  },
  {
   "cell_type": "code",
   "execution_count": 154,
   "metadata": {},
   "outputs": [
    {
     "name": "stdout",
     "output_type": "stream",
     "text": [
      "english.26KB\n",
      "0\n",
      "0\n",
      "english.400KB\n",
      "0\n",
      "0\n",
      "english.1MB\n",
      "0\n",
      "0\n",
      "english.2MB\n",
      "0\n",
      "0\n",
      "english.3MB\n",
      "1\n",
      "1\n",
      "english.6MB\n",
      "1\n",
      "1\n",
      "english.13MB\n",
      "5\n",
      "5\n"
     ]
    }
   ],
   "source": [
    "data = {}\n",
    "\n",
    "for (topic, text_file_list) in text_samples:\n",
    "\n",
    "    y_time_grep = []\n",
    "    y_time_ipmt = []\n",
    "\n",
    "    for text_file in text_file_list:\n",
    "        \n",
    "        text_file =  text_file\n",
    "        print(text_file[0:len(text_file)-4])\n",
    "        t1 = time.time()\n",
    "        subp.call([\"grep\", \"-c\", \"hellish\", text_file[0:len(text_file)-4]])\n",
    "        t2 = time.time()\n",
    "        y_time_grep.append(t2 - t1)\n",
    "\n",
    "        t1 = time.time()\n",
    "        subp.check_call([\"ipmt\", \"search\", \"-c\", \"hellish\", text_file])\n",
    "        t2 = time.time()\n",
    "        y_time_ipmt.append(t2 - t1)\n",
    "    \n",
    "    data[topic] = {\n",
    "        \"y_time_grep\"    : y_time_grep,\n",
    "        \"y_time_ipmt\"   : y_time_ipmt\n",
    "    }"
   ]
  },
  {
   "cell_type": "code",
   "execution_count": 155,
   "metadata": {},
   "outputs": [],
   "source": [
    "COLOR = 'white'\n",
    "plt.rcParams['text.color'] = COLOR\n",
    "plt.rcParams['axes.labelcolor'] = COLOR\n",
    "plt.rcParams['xtick.color'] = COLOR\n",
    "plt.rcParams['ytick.color'] = COLOR"
   ]
  },
  {
   "cell_type": "code",
   "execution_count": 156,
   "metadata": {},
   "outputs": [
    {
     "data": {
      "image/png": "[encoded data removed]",
      "text/plain": [
       "<Figure size 432x288 with 1 Axes>"
      ]
     },
     "metadata": {
      "needs_background": "dark"
     },
     "output_type": "display_data"
    }
   ],
   "source": [
    "for topic_key in data:\n",
    "    topic_data = data[topic_key]\n",
    "\n",
    "    y_time_grep = topic_data[\"y_time_grep\"]\n",
    "    y_time_ipmt = topic_data[\"y_time_ipmt\"]\n",
    "    # plot - Time efficiency\n",
    "    fig, ax = plt.subplots()\n",
    "    \n",
    "    x = [0.026, 0.5, 1, 2, 3, 6, 13]\n",
    "\n",
    "    ax.plot(x, y_time_grep, label='grep')\n",
    "    ax.plot(x, y_time_ipmt, label='ipmt')\n",
    "\n",
    "    ax.set(xlim=(0.026, 13), xticks=np.arange(0, 13, 3))\n",
    "\n",
    "    plt.title(f\"tempo casamento exato de acordo com o tamanho do texto e um alfabeto constante grande: {topic_key}\")\n",
    "    plt.xlabel(\"Tamanho do arquivo em MBs\")\n",
    "    plt.ylabel(\"Tempo de casamento exato\")\n",
    "\n",
    "    plt.legend(labelcolor='black', loc='best')\n",
    "    plt.show()"
   ]
  }
 ],
 "metadata": {
  "interpreter": {
   "hash": "916dbcbb3f70747c44a77c7bcd40155683ae19c65e1c03b4aa3499c5328201f1"
  },
  "kernelspec": {
   "display_name": "Python 3.8.10 64-bit",
   "language": "python",
   "name": "python3"
  },
  "language_info": {
   "codemirror_mode": {
    "name": "ipython",
    "version": 3
   },
   "file_extension": ".py",
   "mimetype": "text/x-python",
   "name": "python",
   "nbconvert_exporter": "python",
   "pygments_lexer": "ipython3",
   "version": "3.8.10"
  },
  "orig_nbformat": 4,
  "vscode": {
   "interpreter": {
    "hash": "31f2aee4e71d21fbe5cf8b01ff0e069b9275f58929596ceb00d14d90e3e16cd6"
   }
  }
 },
 "nbformat": 4,
 "nbformat_minor": 2
}
